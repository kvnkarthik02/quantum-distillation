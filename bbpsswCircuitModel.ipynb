{
 "cells": [
  {
   "cell_type": "markdown",
   "metadata": {},
   "source": [
    "# BBPSSW Protocol "
   ]
  },
  {
   "cell_type": "code",
   "execution_count": 4,
   "metadata": {
    "jupyter": {
     "is_executing": true
    }
   },
   "outputs": [],
   "source": [
    "#imports\n",
    "from qutip import *\n",
    "from qutip_qip.circuit import QubitCircuit\n",
    "from qutip_qip.operations import Gate, cnot\n",
    "import numpy as np\n",
    "from math import pi\n",
    "import matplotlib.pyplot as plt\n",
    "from qutip.qip.operations.gates import (rx, ry, rz)\n",
    "import random\n",
    "from qutip.measurement import measure, measure_povm\n"
   ]
  },
  {
   "cell_type": "code",
   "execution_count": 5,
   "metadata": {},
   "outputs": [
    {
     "data": {
      "text/plain": [
       "np.float64(0.20135792079033074)"
      ]
     },
     "execution_count": 5,
     "metadata": {},
     "output_type": "execute_result"
    }
   ],
   "source": [
    "#CALCULATE THETA VALUE FOR GIVEN FIDELITY\n",
    "def F_to_theta(F):\n",
    "    \"\"\"Returns the angle theta corresponding to an input fidelity F.\n",
    "    \n",
    "    Keyword arguments:\n",
    "    F -- fidelity between 0 and 1\n",
    "    \"\"\"\n",
    "    if F < 0 or F > 1:\n",
    "        raise Exception('Fidelity must be between 0 and 1.')\n",
    "    else:\n",
    "        theta = np.arcsin(2*F - 1)\n",
    "    \n",
    "    return theta\n",
    "\n",
    "F_to_theta(0.6)"
   ]
  },
  {
   "cell_type": "code",
   "execution_count": 6,
   "metadata": {},
   "outputs": [],
   "source": [
    "#CUSTOM CONTROLLED ROTATION X/Y/Z GATES\n",
    "\n",
    "def controlled_rx(arg_value):\n",
    "     # controlled rotation X\n",
    "     mat = np.zeros((4, 4), dtype=np.complex128)\n",
    "     mat[0, 0] = mat[1, 1] = 1.\n",
    "     mat[2:4, 2:4] = rx(arg_value).full()\n",
    "     return Qobj(mat, dims=[[2, 2], [2, 2]])\n",
    "\n",
    "def controlled_ry(arg_value):\n",
    "     # controlled rotation Y\n",
    "     mat = np.zeros((4, 4), dtype=np.complex128)\n",
    "     mat[0, 0] = mat[1, 1] = 1.\n",
    "     mat[2:4, 2:4] = ry(arg_value).full()\n",
    "     return Qobj(mat, dims=[[2, 2], [2, 2]])\n",
    "\n",
    "def controlled_rz(arg_value):\n",
    "     # controlled rotation Z\n",
    "     mat = np.zeros((4, 4), dtype=np.complex128)\n",
    "     mat[0, 0] = mat[1, 1] = 1.\n",
    "     mat[2:4, 2:4] = rz(arg_value).full()\n",
    "     return Qobj(mat, dims=[[2, 2], [2, 2]])\n",
    "\n"
   ]
  },
  {
   "cell_type": "code",
   "execution_count": 7,
   "metadata": {},
   "outputs": [],
   "source": [
    "#FUNCTION TO CHECK IF A STATE IS A WERNER STATE\n",
    "\n",
    "def check_werner_r1(rho, tol=1e-6):\n",
    "    \"\"\"\n",
    "    Check whether a 4x4 matrix rho corresponds to the Werner-type state:\n",
    "    rho_W = r1 * |1><1| + (1-r1)/3 * (I4 - |1><1|)\n",
    "    where |1> = (|01> - |10>)/sqrt(2).\n",
    "    In the computational basis {|00>, |01>, |10>, |11>}, the matrix form is:\n",
    "    rho_W = [[(1-r1)/3, 0, 0, 0],\n",
    "    [0, (2*r1+1)/6, (1-4*r1)/6, 0],\n",
    "    [0, (1-4*r1)/6, (2*r1+1)/6, 0],\n",
    "    [0, 0, 0, (1-r1)/3]]\n",
    "    Parameters\n",
    "    ----------\n",
    "    rho : 2D numpy array (shape (4,4))\n",
    "    The density matrix to test.\n",
    "    tol : float\n",
    "    Numerical tolerance for consistency checks.\n",
    "    Returns\n",
    "    -------\n",
    "    (is_werner, r1_value)\n",
    "    is_werner : bool\n",
    "    True if all derived r1 values match within 'tol'.\n",
    "    r1_value : float or None\n",
    "    The average r1 if consistent, else None.\n",
    "    \"\"\"\n",
    "\n",
    "    # Corner diagonals (should be (1-r1)/3):\n",
    "\n",
    "    corner_val = rho[0, 0] # same as rho[3,3] ideally\n",
    "\n",
    "    # Center diagonals (should be (2*r1 + 1)/6):\n",
    "\n",
    "    center_diag_val = rho[1, 1] # same as rho[2,2] ideally\n",
    "\n",
    "    # Off-diagonals in the center block (should be (1 - 4*r1)/6):\n",
    "\n",
    "    center_offdiag_val = rho[1, 2] # same as rho[2,1] ideally\n",
    "\n",
    "    # Solve for r1 from each expression:\n",
    "\n",
    "    # 1) corner_val = (1 - r1)/3 => r1 = 1 - 3 * corner_val\n",
    "\n",
    "    r1_corner = 1.0 - 3.0 * corner_val\n",
    "\n",
    "    # 2) center_diag_val = (2*r1 + 1)/6 => 2*r1 + 1 = 6*center_diag_val => r1 = 3*center_diag_val - 0.5\n",
    "\n",
    "    r1_center_diag = 3.0 * center_diag_val - 0.5\n",
    "\n",
    "    # 3) center_offdiag_val = (1 - 4*r1)/6 => 1 - 4*r1 = 6*center_offdiag_val => r1 = (1 - 6*center_offdiag_val)/4\n",
    "\n",
    "    r1_center_offdiag = (1.0 - 6.0 * center_offdiag_val) / 4.0\n",
    "\n",
    "    # Put them all in a list\n",
    "\n",
    "    r1_candidates = [r1_corner, r1_center_diag, r1_center_offdiag]\n",
    "\n",
    "    # Check if they are all close within 'tol'\n",
    "    if (np.allclose(r1_corner, r1_center_diag, atol=tol) and np.allclose(r1_corner, r1_center_offdiag, atol=tol)):\n",
    "\n",
    "        # If consistent, return average\n",
    "\n",
    "        r1_mean = np.mean(r1_candidates)\n",
    "        return True, r1_mean\n",
    "    else:\n",
    "    # Not consistent -> not a Werner state of this specific form\n",
    "        return False, None\n",
    "\n"
   ]
  },
  {
   "cell_type": "code",
   "execution_count": 8,
   "metadata": {},
   "outputs": [
    {
     "name": "stdout",
     "output_type": "stream",
     "text": [
      "Quantum object: dims=[[2, 2], [2, 2]], shape=(4, 4), type='oper', dtype=Dense, isherm=True\n",
      "Qobj data =\n",
      "[[ 0.1  0.   0.   0. ]\n",
      " [ 0.   0.4 -0.3  0. ]\n",
      " [ 0.  -0.3  0.4  0. ]\n",
      " [ 0.   0.   0.   0.1]]\n"
     ]
    },
    {
     "data": {
      "text/plain": [
       "np.float64(0.7000000000000004)"
      ]
     },
     "execution_count": 8,
     "metadata": {},
     "output_type": "execute_result"
    }
   ],
   "source": [
    "\n",
    "phi_plus = bell_state(\"00\")\n",
    "phi_minus = bell_state(\"01\")\n",
    "psi_plus = bell_state(\"10\")\n",
    "psi_minus = bell_state(\"11\")\n",
    "\n",
    "def Werner_state(F):\n",
    "    \"\"\"Returns Werner state of fidelity F.\n",
    "    \n",
    "    Keyword arguments:\n",
    "    F -- fidelity of Werner state, range [0, 1]\n",
    "    \"\"\"\n",
    "    if F < 0 or F > 1:\n",
    "        raise Exception('Fidelity must be between 0 and 1.')\n",
    "    \n",
    "    state = F * psi_minus * psi_minus.dag() + (1 - F) / 3 * (phi_plus * phi_plus.dag() + phi_minus * phi_minus.dag() + psi_plus * psi_plus.dag())    \n",
    "    return state\n",
    "\n",
    "\n",
    "werner_state = Werner_state(0.7)\n",
    "print(werner_state)\n",
    "# print(check_werner_r1(werner_state))\n",
    "np.square(fidelity(bell_state('11'), werner_state))\n",
    "\n"
   ]
  },
  {
   "cell_type": "code",
   "execution_count": 9,
   "metadata": {},
   "outputs": [],
   "source": [
    "# #CIRCUIT GENERATING WERNER CIRCUIT\n",
    "\n",
    "# werner_circuit = QubitCircuit(N=5)\n",
    "# werner_circuit.user_gates = {\"cRX\": controlled_rx, \"cRY\": controlled_ry, \"cRZ\": controlled_rz}\n",
    "\n",
    "# werner_circuit.add_gate(\"RY\", targets=[0], arg_value= (pi/8), style={\"showarg\": True})\n",
    "# werner_circuit.add_gate(\"CNOT\", controls=[0], targets=[2])\n",
    "# werner_circuit.add_gate(\"H\", targets=[0])\n",
    "# werner_circuit.add_gate(\"CX\", controls=[2], targets=[1])\n",
    "# werner_circuit.add_gate(\"X\", targets=[2])\n",
    "# werner_circuit.add_gate(\"cRX\", targets=[2,1], arg_value=pi/2)\n",
    "# werner_circuit.add_gate(\"cRY\", targets=[2,1], arg_value=pi/2)\n",
    "# werner_circuit.add_gate(\"cRZ\", targets=[2,1], arg_value=pi/2)\n",
    "# # werner_circuit.add_gate(\"X\", targets=[2])\n",
    "# werner_circuit.add_gate(\"TOFFOLI\", controls=[2,0], targets=[1])\n",
    "# werner_circuit.add_gate(\"X\", targets=[2])\n",
    "# werner_circuit.add_gate(\"TOFFOLI\", controls=[0,2], targets=[3])\n",
    "# werner_circuit.add_gate(\"TOFFOLI\", controls=[1,2], targets=[4])\n",
    "\n",
    "# werner_circuit.draw(\"matplotlib\", dpi=200)"
   ]
  },
  {
   "cell_type": "code",
   "execution_count": 10,
   "metadata": {},
   "outputs": [],
   "source": [
    "# #RUN WERNER CIRCUIT\n",
    "# from qutip import tensor, basis\n",
    "# initial_state =  tensor(basis(2,0), basis(2,0), basis(2,0), basis(2,0), basis(2,0))\n",
    "# werner_result = werner_circuit.run(state=initial_state )\n",
    "\n",
    "# # print(result)\n",
    "# werner_state = werner_result.ptrace([0,1])\n",
    "# # werner_state_copy = werner_state.copy()\n",
    "# print(werner_state)\n",
    "# print(check_werner_r1(werner_state))\n",
    "# print(bell_state(\"11\"))\n",
    "# print(\"fidelity:\", fidelity(werner_state, bell_state(\"00\")))"
   ]
  },
  {
   "cell_type": "code",
   "execution_count": 11,
   "metadata": {},
   "outputs": [],
   "source": [
    "def bilateral_rotation(circuit, qubits, rot_idx):\n",
    "    \"\"\"Adds a bilateral rotation to a quantum circuit.\n",
    "    \n",
    "    Keyword arguments:\n",
    "    circuit --  quantum circuit to which the rotations are added\n",
    "    qubits -- alist of qubits, each of which is rotated\n",
    "    rot_idx -- integer that numbers the rotations from the set of all rotations, ranges from 0 to 11\n",
    "    \"\"\"\n",
    "    for qubit_number in qubits:\n",
    "        if rot_idx == 0:\n",
    "            pass\n",
    "        \n",
    "        elif rot_idx == 1:\n",
    "            circuit.add_gate(\"RX\", targets=[qubit_number], arg_value=pi / 2, style={\"showarg\": True})\n",
    "            circuit.add_gate(\"RX\", targets=[qubit_number], arg_value=pi / 2, style={\"showarg\": True})\n",
    "\n",
    "            \n",
    "        elif rot_idx == 2:\n",
    "            circuit.add_gate(\"RY\", targets=[qubit_number], arg_value=pi / 2, style={\"showarg\": True})\n",
    "            circuit.add_gate(\"RY\", targets=[qubit_number], arg_value=pi / 2, style={\"showarg\": True})\n",
    "            \n",
    "        elif rot_idx == 3:\n",
    "            circuit.add_gate(\"RZ\", targets=[qubit_number], arg_value=pi / 2, style={\"showarg\": True})\n",
    "            circuit.add_gate(\"RZ\", targets=[qubit_number], arg_value=pi / 2, style={\"showarg\": True})\n",
    "            \n",
    "        elif rot_idx == 4:\n",
    "            circuit.add_gate(\"RX\", targets=[qubit_number], arg_value=pi / 2, style={\"showarg\": True})\n",
    "            circuit.add_gate(\"RY\", targets=[qubit_number], arg_value=pi / 2, style={\"showarg\": True})\n",
    "            \n",
    "        elif rot_idx == 5:\n",
    "            circuit.add_gate(\"RY\", targets=[qubit_number], arg_value=pi / 2, style={\"showarg\": True})\n",
    "            circuit.add_gate(\"RZ\", targets=[qubit_number], arg_value=pi / 2, style={\"showarg\": True})\n",
    "            \n",
    "        elif rot_idx == 6:\n",
    "            circuit.add_gate(\"RZ\", targets=[qubit_number], arg_value=pi / 2, style={\"showarg\": True})\n",
    "            circuit.add_gate(\"RX\", targets=[qubit_number], arg_value=pi / 2, style={\"showarg\": True})\n",
    "\n",
    "            \n",
    "        elif rot_idx == 7:\n",
    "            circuit.add_gate(\"RY\", targets=[qubit_number], arg_value=pi / 2, style={\"showarg\": True})\n",
    "            circuit.add_gate(\"RX\", targets=[qubit_number], arg_value=pi / 2, style={\"showarg\": True})\n",
    "\n",
    "            \n",
    "        elif rot_idx == 8:\n",
    "            circuit.add_gate(\"RX\", targets=[qubit_number], arg_value=pi / 2, style={\"showarg\": True})\n",
    "            circuit.add_gate(\"RY\", targets=[qubit_number], arg_value=pi / 2, style={\"showarg\": True})\n",
    "            circuit.add_gate(\"RX\", targets=[qubit_number], arg_value=pi / 2, style={\"showarg\": True})\n",
    "            circuit.add_gate(\"RY\", targets=[qubit_number], arg_value=pi / 2, style={\"showarg\": True})\n",
    "            \n",
    "        elif rot_idx == 9:\n",
    "            circuit.add_gate(\"RY\", targets=[qubit_number], arg_value=pi / 2, style={\"showarg\": True})\n",
    "            circuit.add_gate(\"RZ\", targets=[qubit_number], arg_value=pi / 2, style={\"showarg\": True})\n",
    "            circuit.add_gate(\"RY\", targets=[qubit_number], arg_value=pi / 2, style={\"showarg\": True})\n",
    "            circuit.add_gate(\"RZ\", targets=[qubit_number], arg_value=pi / 2, style={\"showarg\": True})\n",
    "            \n",
    "        elif rot_idx == 10:\n",
    "            circuit.add_gate(\"RZ\", targets=[qubit_number], arg_value=pi / 2, style={\"showarg\": True})\n",
    "            circuit.add_gate(\"RX\", targets=[qubit_number], arg_value=pi / 2, style={\"showarg\": True})\n",
    "            circuit.add_gate(\"RZ\", targets=[qubit_number], arg_value=pi / 2, style={\"showarg\": True})\n",
    "            circuit.add_gate(\"RX\", targets=[qubit_number], arg_value=pi / 2, style={\"showarg\": True})\n",
    "\n",
    "            \n",
    "        elif rot_idx == 11:\n",
    "            circuit.add_gate(\"RY\", targets=[qubit_number], arg_value=pi / 2, style={\"showarg\": True})\n",
    "            circuit.add_gate(\"RX\", targets=[qubit_number], arg_value=pi / 2, style={\"showarg\": True})\n",
    "            circuit.add_gate(\"RY\", targets=[qubit_number], arg_value=pi / 2, style={\"showarg\": True})\n",
    "            circuit.add_gate(\"RX\", targets=[qubit_number], arg_value=pi / 2, style={\"showarg\": True})\n",
    "\n",
    "            \n",
    "        else:\n",
    "            raise Exception('Input argument rot_idx has to be an integer between 0 and 11.')"
   ]
  },
  {
   "cell_type": "code",
   "execution_count": 12,
   "metadata": {
    "jupyter": {
     "is_executing": true
    }
   },
   "outputs": [
    {
     "data": {
      "image/png": "[encoded data removed]",
      "text/plain": [
       "<Figure size 334.307x334.307 with 1 Axes>"
      ]
     },
     "metadata": {},
     "output_type": "display_data"
    }
   ],
   "source": [
    "def perform_purification():\n",
    "    # for i in range(1000):\n",
    "        werner_state = Werner_state(0.7)\n",
    "        pre_processing_fidelity = fidelity(werner_state, bell_state('11'))\n",
    "\n",
    "\n",
    "        purification_circuit= QubitCircuit(N=4)\n",
    "        purification_circuit.add_gate(\"Y\", targets=[0])\n",
    "        purification_circuit.add_gate(\"Y\", targets=[2])\n",
    "        purification_circuit.add_gate(\"CNOT\", targets = [2], controls=[0])\n",
    "        purification_circuit.add_gate(\"CNOT\", targets = [3], controls=[1])\n",
    "\n",
    "        purification_circuit.draw(\"matplotlib\", dpi=100)\n",
    "\n",
    "        purification_result = purification_circuit.run(state = tensor(werner_state, werner_state))\n",
    "        Z0, Z1 = ket2dm(basis(2, 0)), ket2dm(basis(2, 1))\n",
    "        PZ1 = [tensor(identity(2), identity(2), Z0, Z0), tensor(identity(2), identity(2), Z1, Z1), tensor(identity(2), identity(2), Z0, Z1), tensor(identity(2), identity(2), Z1, Z0)]\n",
    "        measurement_result = measure_povm(purification_result,PZ1)\n",
    "\n",
    "        if measurement_result[0] == 0 or measurement_result[0] == 1:\n",
    "            # print(\"succesful purification result\")\n",
    "            post_purification_state = measurement_result[1].ptrace([0,1])\n",
    "            print(\"Post Purification State: \",post_purification_state)\n",
    "\n",
    "            post_purification = QubitCircuit(N=2)\n",
    "            post_purification.add_gate(\"Y\", targets=[0])\n",
    "            # post_purification.draw(\"matplotlib\", dpi = 200)\n",
    "\n",
    "            post_purif_result = post_purification.run(state = post_purification_state)\n",
    "            print(\"Post Result: \",post_purif_result)\n",
    "            print(np.square(fidelity(post_purif_result,bell_state(\"11\"))))\n",
    "        \n",
    "\n",
    "perform_purification()"
   ]
  }
 ],
 "metadata": {
  "kernelspec": {
   "display_name": ".venv",
   "language": "python",
   "name": "python3"
  },
  "language_info": {
   "codemirror_mode": {
    "name": "ipython",
    "version": 3
   },
   "file_extension": ".py",
   "mimetype": "text/x-python",
   "name": "python",
   "nbconvert_exporter": "python",
   "pygments_lexer": "ipython3",
   "version": "3.13.2"
  }
 },
 "nbformat": 4,
 "nbformat_minor": 2
}
