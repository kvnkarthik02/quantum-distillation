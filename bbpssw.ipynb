{
 "cells": [
  {
   "cell_type": "markdown",
   "metadata": {},
   "source": [
    "# BBPSSW Protocol "
   ]
  },
  {
   "cell_type": "code",
   "execution_count": 34,
   "metadata": {},
   "outputs": [],
   "source": [
    "#imports\n",
    "from qutip import *\n",
    "from qutip_qip.circuit import QubitCircuit\n",
    "from qutip_qip.operations import Gate, cnot\n",
    "import numpy as np\n",
    "from math import pi\n",
    "import matplotlib.pyplot as plt\n",
    "from qutip_qip.device import LinearSpinChain\n",
    "from qutip_qip.noise import DecoherenceNoise\n",
    "from qutip.qip.operations.gates import (rx, ry, rz, sqrtnot, snot, phasegate,\n",
    "                                        x_gate, y_gate, z_gate, cy_gate,\n",
    "                                        cz_gate, s_gate, t_gate, cs_gate,\n",
    "                                        qasmu_gate, ct_gate, cphase, cnot,\n",
    "                                        csign, berkeley, swapalpha, swap,\n",
    "                                        iswap, sqrtswap, sqrtiswap, fredkin,\n",
    "                                        toffoli, controlled_gate, globalphase,\n",
    "                                        expand_operator, gate_sequence_product)"
   ]
  },
  {
   "cell_type": "code",
   "execution_count": 2,
   "metadata": {},
   "outputs": [],
   "source": [
    "#initialisations\n",
    "phi_plus = bell_state(\"00\")\n",
    "phi_minus = bell_state(\"01\")\n",
    "psi_plus = bell_state(\"10\")\n",
    "psi_minus = bell_state(\"11\")\n",
    "\n",
    "fidelity_val = 0.60"
   ]
  },
  {
   "cell_type": "code",
   "execution_count": 3,
   "metadata": {},
   "outputs": [],
   "source": [
    "def F_to_theta(F):\n",
    "    \"\"\"Returns the angle theta corresponding to an input fidelity F.\n",
    "    \n",
    "    Keyword arguments:\n",
    "    F -- fidelity between 0 and 1\n",
    "    \"\"\"\n",
    "    if F < 0 or F > 1:\n",
    "        raise Exception('Fidelity must be between 0 and 1.')\n",
    "    else:\n",
    "        theta = np.arcsin(2*F - 1)\n",
    "    \n",
    "    return theta"
   ]
  },
  {
   "cell_type": "code",
   "execution_count": 4,
   "metadata": {},
   "outputs": [],
   "source": [
    "#generate Werner state for given fidelity values ranging between 0 and 1. this is done using random bilateral rotations. \n",
    "def Werner_state(F):\n",
    "    if F < 0 or F > 1:\n",
    "        raise Exception('Fidelity must be between 0 and 1.')\n",
    "    \n",
    "    state = F * psi_minus * psi_minus.dag() + (1 - F) / 3 * (phi_plus * phi_plus.dag() + phi_minus * phi_minus.dag() + psi_plus * psi_plus.dag())\n",
    "    \n",
    "    return state\n",
    "\n"
   ]
  },
  {
   "cell_type": "code",
   "execution_count": 6,
   "metadata": {},
   "outputs": [],
   "source": [
    "control_qubits = [0,1]\n",
    "target_qubits = [2,3]"
   ]
  },
  {
   "cell_type": "code",
   "execution_count": 7,
   "metadata": {},
   "outputs": [],
   "source": [
    "def bilateral_rotation(circuit, qubits, rot_idx):\n",
    "    \"\"\"Adds a bilateral rotation to a quantum circuit.\n",
    "    \n",
    "    Keyword arguments:\n",
    "    circuit --  quantum circuit to which the rotations are added\n",
    "    qubits -- alist of qubits, each of which is rotated\n",
    "    rot_idx -- integer that numbers the rotations from the set of all rotations, ranges from 0 to 11\n",
    "    \"\"\"\n",
    "    for qubit_number in qubits:\n",
    "        if rot_idx == 0:\n",
    "            pass\n",
    "        \n",
    "        elif rot_idx == 1:\n",
    "            circuit.add_gate(\"RX\", targets=[qubit_number], arg_value=pi / 2, style={\"showarg\": True})\n",
    "            circuit.add_gate(\"RX\", targets=[qubit_number], arg_value=pi / 2, style={\"showarg\": True})\n",
    "\n",
    "            \n",
    "        elif rot_idx == 2:\n",
    "            circuit.add_gate(\"RY\", targets=[qubit_number], arg_value=pi / 2, style={\"showarg\": True})\n",
    "            circuit.add_gate(\"RY\", targets=[qubit_number], arg_value=pi / 2, style={\"showarg\": True})\n",
    "            \n",
    "        elif rot_idx == 3:\n",
    "            circuit.add_gate(\"RZ\", targets=[qubit_number], arg_value=pi / 2, style={\"showarg\": True})\n",
    "            circuit.add_gate(\"RZ\", targets=[qubit_number], arg_value=pi / 2, style={\"showarg\": True})\n",
    "            \n",
    "        elif rot_idx == 4:\n",
    "            circuit.add_gate(\"RX\", targets=[qubit_number], arg_value=pi / 2, style={\"showarg\": True})\n",
    "            circuit.add_gate(\"RY\", targets=[qubit_number], arg_value=pi / 2, style={\"showarg\": True})\n",
    "            \n",
    "        elif rot_idx == 5:\n",
    "            circuit.add_gate(\"RY\", targets=[qubit_number], arg_value=pi / 2, style={\"showarg\": True})\n",
    "            circuit.add_gate(\"RZ\", targets=[qubit_number], arg_value=pi / 2, style={\"showarg\": True})\n",
    "            \n",
    "        elif rot_idx == 6:\n",
    "            circuit.add_gate(\"RZ\", targets=[qubit_number], arg_value=pi / 2, style={\"showarg\": True})\n",
    "            circuit.add_gate(\"RX\", targets=[qubit_number], arg_value=pi / 2, style={\"showarg\": True})\n",
    "\n",
    "            \n",
    "        elif rot_idx == 7:\n",
    "            circuit.add_gate(\"RY\", targets=[qubit_number], arg_value=pi / 2, style={\"showarg\": True})\n",
    "            circuit.add_gate(\"RX\", targets=[qubit_number], arg_value=pi / 2, style={\"showarg\": True})\n",
    "\n",
    "            \n",
    "        elif rot_idx == 8:\n",
    "            circuit.add_gate(\"RX\", targets=[qubit_number], arg_value=pi / 2, style={\"showarg\": True})\n",
    "            circuit.add_gate(\"RY\", targets=[qubit_number], arg_value=pi / 2, style={\"showarg\": True})\n",
    "            circuit.add_gate(\"RX\", targets=[qubit_number], arg_value=pi / 2, style={\"showarg\": True})\n",
    "            circuit.add_gate(\"RY\", targets=[qubit_number], arg_value=pi / 2, style={\"showarg\": True})\n",
    "            \n",
    "        elif rot_idx == 9:\n",
    "            circuit.add_gate(\"RY\", targets=[qubit_number], arg_value=pi / 2, style={\"showarg\": True})\n",
    "            circuit.add_gate(\"RZ\", targets=[qubit_number], arg_value=pi / 2, style={\"showarg\": True})\n",
    "            circuit.add_gate(\"RY\", targets=[qubit_number], arg_value=pi / 2, style={\"showarg\": True})\n",
    "            circuit.add_gate(\"RZ\", targets=[qubit_number], arg_value=pi / 2, style={\"showarg\": True})\n",
    "            \n",
    "        elif rot_idx == 10:\n",
    "            circuit.add_gate(\"RZ\", targets=[qubit_number], arg_value=pi / 2, style={\"showarg\": True})\n",
    "            circuit.add_gate(\"RX\", targets=[qubit_number], arg_value=pi / 2, style={\"showarg\": True})\n",
    "            circuit.add_gate(\"RZ\", targets=[qubit_number], arg_value=pi / 2, style={\"showarg\": True})\n",
    "            circuit.add_gate(\"RX\", targets=[qubit_number], arg_value=pi / 2, style={\"showarg\": True})\n",
    "\n",
    "            \n",
    "        elif rot_idx == 11:\n",
    "            circuit.add_gate(\"RY\", targets=[qubit_number], arg_value=pi / 2, style={\"showarg\": True})\n",
    "            circuit.add_gate(\"RX\", targets=[qubit_number], arg_value=pi / 2, style={\"showarg\": True})\n",
    "            circuit.add_gate(\"RY\", targets=[qubit_number], arg_value=pi / 2, style={\"showarg\": True})\n",
    "            circuit.add_gate(\"RX\", targets=[qubit_number], arg_value=pi / 2, style={\"showarg\": True})\n",
    "\n",
    "            \n",
    "        else:\n",
    "            raise Exception('Input argument rot_idx has to be an integer between 0 and 11.')"
   ]
  },
  {
   "cell_type": "code",
   "execution_count": 63,
   "metadata": {},
   "outputs": [],
   "source": [
    "def add_qasmu_gate(circuit, theta, phi, lam, target):\n",
    "    \"\"\"Adds a QASMU gate to a quantum circuit.\n",
    "    \n",
    "    Keyword arguments:\n",
    "    circuit --  quantum circuit to which the gate is added\n",
    "    theta -- angle theta\n",
    "    phi -- angle phi\n",
    "    lam -- angle lambda\n",
    "    \"\"\"\n",
    "    circuit.add_gate(\"RZ\", targets=[target], arg_value=0, style={\"showarg\": True})\n",
    "    circuit.add_gate(\"RY\", targets=[target], arg_value=(F_to_theta(fidelity_val)), style={\"showarg\": True})\n",
    "    circuit.add_gate(\"RZ\", targets=[target], arg_value=0, style={\"showarg\": True})"
   ]
  },
  {
   "cell_type": "code",
   "execution_count": 76,
   "metadata": {},
   "outputs": [],
   "source": [
    "#create circuit that generates source\n",
    "qc = QubitCircuit(4)\n",
    "qc.add_gate(\"X\", targets=[1])\n",
    "#qasmu gate\n",
    "qc.add_gate(\"RZ\", targets=[0], arg_value=0, style={\"showarg\": True})\n",
    "qc.add_gate(\"RY\", targets=[0], arg_value=(F_to_theta(fidelity_val)), style={\"showarg\": True})\n",
    "qc.add_gate(\"RZ\", targets=[0], arg_value=0, style={\"showarg\": True})\n",
    "\n",
    "qc.add_gate(\"CNOT\", controls=[0], targets=[1])\n",
    "qc.add_gate(\"X\", targets=[3])\n",
    "\n",
    "#qasmu gate\n",
    "qc.add_gate(\"RZ\", targets=[2], arg_value=0, style={\"showarg\": True})\n",
    "qc.add_gate(\"RY\", targets=[2], arg_value=(F_to_theta(fidelity_val)), style={\"showarg\": True})\n",
    "qc.add_gate(\"RZ\", targets=[2], arg_value=0, style={\"showarg\": True})\n",
    "\n",
    "qc.add_gate(\"CNOT\", controls=[2], targets=[3])\n",
    "\n",
    "#generate werner state from source using random bilateral rotations\n",
    "rand_int = np.random.randint(12)\n",
    "bilateral_rotation(qc, control_qubits, rand_int)\n",
    "bilateral_rotation(qc, target_qubits, rand_int)\n",
    "# qc.draw(\"matplotlib\", dpi=150)\n",
    "\n",
    "#bbpssw protocol steps  \n",
    "qc.add_gate(\"Y\", targets=[0])\n",
    "qc.add_gate(\"Y\", targets=[2])\n",
    "qc.add_gate(\"CNOT\", controls=[0], targets=[2])\n",
    "qc.add_gate(\"CNOT\", controls=[1], targets=[3])\n",
    "qc.add_measurement(\"M0\", targets=[2], classical_store=[0])\n",
    "qc.add_measurement(\"M0\", targets=[3], classical_store=[1])\n",
    "\n"
   ]
  },
  {
   "cell_type": "code",
   "execution_count": 77,
   "metadata": {},
   "outputs": [
    {
     "ename": "NotImplementedError",
     "evalue": "Gate Measurement(M0, target=[2], classical_store=[0]) cannot be resolved.",
     "output_type": "error",
     "traceback": [
      "\u001b[1;31m---------------------------------------------------------------------------\u001b[0m",
      "\u001b[1;31mKeyError\u001b[0m                                  Traceback (most recent call last)",
      "File \u001b[1;32mc:\\Python311\\Lib\\site-packages\\qutip_qip\\circuit\\circuit.py:600\u001b[0m, in \u001b[0;36mQubitCircuit.resolve_gates\u001b[1;34m(self, basis)\u001b[0m\n\u001b[0;32m    599\u001b[0m \u001b[38;5;28;01mtry\u001b[39;00m:\n\u001b[1;32m--> 600\u001b[0m     \u001b[43m_resolve_to_universal\u001b[49m\u001b[43m(\u001b[49m\u001b[43mgate\u001b[49m\u001b[43m,\u001b[49m\u001b[43m \u001b[49m\u001b[43mtemp_resolved\u001b[49m\u001b[43m,\u001b[49m\u001b[43m \u001b[49m\u001b[43mbasis_1q\u001b[49m\u001b[43m,\u001b[49m\u001b[43m \u001b[49m\u001b[43mbasis_2q\u001b[49m\u001b[43m)\u001b[49m\n\u001b[0;32m    601\u001b[0m \u001b[38;5;28;01mexcept\u001b[39;00m \u001b[38;5;167;01mKeyError\u001b[39;00m:\n",
      "File \u001b[1;32mc:\\Python311\\Lib\\site-packages\\qutip_qip\\circuit\\_decompose.py:743\u001b[0m, in \u001b[0;36m_resolve_to_universal\u001b[1;34m(gate, temp_resolved, basis_1q, basis_2q)\u001b[0m\n\u001b[0;32m    742\u001b[0m     \u001b[38;5;28;01melse\u001b[39;00m:\n\u001b[1;32m--> 743\u001b[0m         method \u001b[38;5;241m=\u001b[39m \u001b[38;5;28;43mglobals\u001b[39;49m\u001b[43m(\u001b[49m\u001b[43m)\u001b[49m\u001b[43m[\u001b[49m\u001b[38;5;124;43m\"\u001b[39;49m\u001b[38;5;124;43m_gate_\u001b[39;49m\u001b[38;5;124;43m\"\u001b[39;49m\u001b[43m \u001b[49m\u001b[38;5;241;43m+\u001b[39;49m\u001b[43m \u001b[49m\u001b[38;5;28;43mstr\u001b[39;49m\u001b[43m(\u001b[49m\u001b[43mgate\u001b[49m\u001b[38;5;241;43m.\u001b[39;49m\u001b[43mname\u001b[49m\u001b[43m)\u001b[49m\u001b[43m]\u001b[49m\n\u001b[0;32m    744\u001b[0m method(gate, temp_resolved)\n",
      "\u001b[1;31mKeyError\u001b[0m: '_gate_Measurement(M0, target=[2], classical_store=[0])'",
      "\nDuring handling of the above exception, another exception occurred:\n",
      "\u001b[1;31mNotImplementedError\u001b[0m                       Traceback (most recent call last)",
      "Cell \u001b[1;32mIn[77], line 8\u001b[0m\n\u001b[0;32m      6\u001b[0m processor \u001b[38;5;241m=\u001b[39m LinearSpinChain(\u001b[38;5;241m1\u001b[39m)\n\u001b[0;32m      7\u001b[0m processor\u001b[38;5;241m.\u001b[39madd_noise(noise)\n\u001b[1;32m----> 8\u001b[0m \u001b[43mprocessor\u001b[49m\u001b[38;5;241;43m.\u001b[39;49m\u001b[43mload_circuit\u001b[49m\u001b[43m(\u001b[49m\u001b[43mqc\u001b[49m\u001b[43m)\u001b[49m\n\u001b[0;32m      9\u001b[0m tlist \u001b[38;5;241m=\u001b[39m np\u001b[38;5;241m.\u001b[39mlinspace(\u001b[38;5;241m0\u001b[39m, \u001b[38;5;241m20\u001b[39m, \u001b[38;5;241m300\u001b[39m)\n\u001b[0;32m     10\u001b[0m result \u001b[38;5;241m=\u001b[39m processor\u001b[38;5;241m.\u001b[39mrun_state(init_state, tlist\u001b[38;5;241m=\u001b[39mtlist)\n",
      "File \u001b[1;32mc:\\Python311\\Lib\\site-packages\\qutip_qip\\device\\spinchain.py:177\u001b[0m, in \u001b[0;36mLinearSpinChain.load_circuit\u001b[1;34m(self, qc, schedule_mode, compiler)\u001b[0m\n\u001b[0;32m    176\u001b[0m \u001b[38;5;28;01mdef\u001b[39;00m \u001b[38;5;21mload_circuit\u001b[39m(\u001b[38;5;28mself\u001b[39m, qc, schedule_mode\u001b[38;5;241m=\u001b[39m\u001b[38;5;124m\"\u001b[39m\u001b[38;5;124mASAP\u001b[39m\u001b[38;5;124m\"\u001b[39m, compiler\u001b[38;5;241m=\u001b[39m\u001b[38;5;28;01mNone\u001b[39;00m):\n\u001b[1;32m--> 177\u001b[0m     \u001b[38;5;28;01mreturn\u001b[39;00m \u001b[38;5;28;43msuper\u001b[39;49m\u001b[43m(\u001b[49m\u001b[43mLinearSpinChain\u001b[49m\u001b[43m,\u001b[49m\u001b[43m \u001b[49m\u001b[38;5;28;43mself\u001b[39;49m\u001b[43m)\u001b[49m\u001b[38;5;241;43m.\u001b[39;49m\u001b[43mload_circuit\u001b[49m\u001b[43m(\u001b[49m\n\u001b[0;32m    178\u001b[0m \u001b[43m        \u001b[49m\u001b[43mqc\u001b[49m\u001b[43m,\u001b[49m\u001b[43m \u001b[49m\u001b[38;5;124;43m\"\u001b[39;49m\u001b[38;5;124;43mlinear\u001b[39;49m\u001b[38;5;124;43m\"\u001b[39;49m\u001b[43m,\u001b[49m\u001b[43m \u001b[49m\u001b[43mschedule_mode\u001b[49m\u001b[38;5;241;43m=\u001b[39;49m\u001b[43mschedule_mode\u001b[49m\u001b[43m,\u001b[49m\u001b[43m \u001b[49m\u001b[43mcompiler\u001b[49m\u001b[38;5;241;43m=\u001b[39;49m\u001b[43mcompiler\u001b[49m\n\u001b[0;32m    179\u001b[0m \u001b[43m    \u001b[49m\u001b[43m)\u001b[49m\n",
      "File \u001b[1;32mc:\\Python311\\Lib\\site-packages\\qutip_qip\\device\\spinchain.py:95\u001b[0m, in \u001b[0;36mSpinChain.load_circuit\u001b[1;34m(self, qc, setup, schedule_mode, compiler)\u001b[0m\n\u001b[0;32m     91\u001b[0m \u001b[38;5;28;01mif\u001b[39;00m compiler \u001b[38;5;129;01mis\u001b[39;00m \u001b[38;5;28;01mNone\u001b[39;00m:\n\u001b[0;32m     92\u001b[0m     compiler \u001b[38;5;241m=\u001b[39m SpinChainCompiler(\n\u001b[0;32m     93\u001b[0m         \u001b[38;5;28mself\u001b[39m\u001b[38;5;241m.\u001b[39mnum_qubits, \u001b[38;5;28mself\u001b[39m\u001b[38;5;241m.\u001b[39mparams, setup\u001b[38;5;241m=\u001b[39msetup\n\u001b[0;32m     94\u001b[0m     )\n\u001b[1;32m---> 95\u001b[0m tlist, coeffs \u001b[38;5;241m=\u001b[39m \u001b[38;5;28;43msuper\u001b[39;49m\u001b[43m(\u001b[49m\u001b[43m)\u001b[49m\u001b[38;5;241;43m.\u001b[39;49m\u001b[43mload_circuit\u001b[49m\u001b[43m(\u001b[49m\n\u001b[0;32m     96\u001b[0m \u001b[43m    \u001b[49m\u001b[43mqc\u001b[49m\u001b[43m,\u001b[49m\u001b[43m \u001b[49m\u001b[43mschedule_mode\u001b[49m\u001b[38;5;241;43m=\u001b[39;49m\u001b[43mschedule_mode\u001b[49m\u001b[43m,\u001b[49m\u001b[43m \u001b[49m\u001b[43mcompiler\u001b[49m\u001b[38;5;241;43m=\u001b[39;49m\u001b[43mcompiler\u001b[49m\n\u001b[0;32m     97\u001b[0m \u001b[43m\u001b[49m\u001b[43m)\u001b[49m\n\u001b[0;32m     98\u001b[0m \u001b[38;5;28mself\u001b[39m\u001b[38;5;241m.\u001b[39mglobal_phase \u001b[38;5;241m=\u001b[39m compiler\u001b[38;5;241m.\u001b[39mglobal_phase\n\u001b[0;32m     99\u001b[0m \u001b[38;5;28;01mreturn\u001b[39;00m tlist, coeffs\n",
      "File \u001b[1;32mc:\\Python311\\Lib\\site-packages\\qutip_qip\\device\\modelprocessor.py:231\u001b[0m, in \u001b[0;36mModelProcessor.load_circuit\u001b[1;34m(self, qc, schedule_mode, compiler)\u001b[0m\n\u001b[0;32m    207\u001b[0m \u001b[38;5;28;01mdef\u001b[39;00m \u001b[38;5;21mload_circuit\u001b[39m(\u001b[38;5;28mself\u001b[39m, qc, schedule_mode\u001b[38;5;241m=\u001b[39m\u001b[38;5;124m\"\u001b[39m\u001b[38;5;124mASAP\u001b[39m\u001b[38;5;124m\"\u001b[39m, compiler\u001b[38;5;241m=\u001b[39m\u001b[38;5;28;01mNone\u001b[39;00m):\n\u001b[0;32m    208\u001b[0m \u001b[38;5;250m    \u001b[39m\u001b[38;5;124;03m\"\"\"\u001b[39;00m\n\u001b[0;32m    209\u001b[0m \u001b[38;5;124;03m    The default routine of compilation.\u001b[39;00m\n\u001b[0;32m    210\u001b[0m \u001b[38;5;124;03m    It first calls the :meth:`.transpile` to convert the circuit to\u001b[39;00m\n\u001b[1;32m   (...)\u001b[0m\n\u001b[0;32m    229\u001b[0m \u001b[38;5;124;03m        compiled pulse coefficients.\u001b[39;00m\n\u001b[0;32m    230\u001b[0m \u001b[38;5;124;03m    \"\"\"\u001b[39;00m\n\u001b[1;32m--> 231\u001b[0m     qc \u001b[38;5;241m=\u001b[39m \u001b[38;5;28;43mself\u001b[39;49m\u001b[38;5;241;43m.\u001b[39;49m\u001b[43mtranspile\u001b[49m\u001b[43m(\u001b[49m\u001b[43mqc\u001b[49m\u001b[43m)\u001b[49m\n\u001b[0;32m    232\u001b[0m     \u001b[38;5;66;03m# Choose a compiler and compile the circuit\u001b[39;00m\n\u001b[0;32m    233\u001b[0m     \u001b[38;5;28;01mif\u001b[39;00m compiler \u001b[38;5;129;01mis\u001b[39;00m \u001b[38;5;28;01mNone\u001b[39;00m \u001b[38;5;129;01mand\u001b[39;00m \u001b[38;5;28mself\u001b[39m\u001b[38;5;241m.\u001b[39m_default_compiler \u001b[38;5;129;01mis\u001b[39;00m \u001b[38;5;129;01mnot\u001b[39;00m \u001b[38;5;28;01mNone\u001b[39;00m:\n",
      "File \u001b[1;32mc:\\Python311\\Lib\\site-packages\\qutip_qip\\device\\modelprocessor.py:204\u001b[0m, in \u001b[0;36mModelProcessor.transpile\u001b[1;34m(self, qc)\u001b[0m\n\u001b[0;32m    202\u001b[0m     \u001b[38;5;28;01mpass\u001b[39;00m\n\u001b[0;32m    203\u001b[0m \u001b[38;5;28;01mif\u001b[39;00m \u001b[38;5;28mself\u001b[39m\u001b[38;5;241m.\u001b[39mnative_gates \u001b[38;5;129;01mis\u001b[39;00m \u001b[38;5;129;01mnot\u001b[39;00m \u001b[38;5;28;01mNone\u001b[39;00m:\n\u001b[1;32m--> 204\u001b[0m     qc \u001b[38;5;241m=\u001b[39m \u001b[43mqc\u001b[49m\u001b[38;5;241;43m.\u001b[39;49m\u001b[43mresolve_gates\u001b[49m\u001b[43m(\u001b[49m\u001b[43mbasis\u001b[49m\u001b[38;5;241;43m=\u001b[39;49m\u001b[38;5;28;43mself\u001b[39;49m\u001b[38;5;241;43m.\u001b[39;49m\u001b[43mnative_gates\u001b[49m\u001b[43m)\u001b[49m\n\u001b[0;32m    205\u001b[0m \u001b[38;5;28;01mreturn\u001b[39;00m qc\n",
      "File \u001b[1;32mc:\\Python311\\Lib\\site-packages\\qutip_qip\\circuit\\circuit.py:606\u001b[0m, in \u001b[0;36mQubitCircuit.resolve_gates\u001b[1;34m(self, basis)\u001b[0m\n\u001b[0;32m    604\u001b[0m         \u001b[38;5;28;01melse\u001b[39;00m:\n\u001b[0;32m    605\u001b[0m             exception \u001b[38;5;241m=\u001b[39m \u001b[38;5;124mf\u001b[39m\u001b[38;5;124m\"\u001b[39m\u001b[38;5;124mGate \u001b[39m\u001b[38;5;132;01m{\u001b[39;00mgate\u001b[38;5;241m.\u001b[39mname\u001b[38;5;132;01m}\u001b[39;00m\u001b[38;5;124m cannot be resolved.\u001b[39m\u001b[38;5;124m\"\u001b[39m\n\u001b[1;32m--> 606\u001b[0m             \u001b[38;5;28;01mraise\u001b[39;00m \u001b[38;5;167;01mNotImplementedError\u001b[39;00m(exception)\n\u001b[0;32m    608\u001b[0m match \u001b[38;5;241m=\u001b[39m \u001b[38;5;28;01mFalse\u001b[39;00m\n\u001b[0;32m    609\u001b[0m \u001b[38;5;28;01mfor\u001b[39;00m basis_unit \u001b[38;5;129;01min\u001b[39;00m [\u001b[38;5;124m\"\u001b[39m\u001b[38;5;124mCSIGN\u001b[39m\u001b[38;5;124m\"\u001b[39m, \u001b[38;5;124m\"\u001b[39m\u001b[38;5;124mISWAP\u001b[39m\u001b[38;5;124m\"\u001b[39m, \u001b[38;5;124m\"\u001b[39m\u001b[38;5;124mSQRTSWAP\u001b[39m\u001b[38;5;124m\"\u001b[39m, \u001b[38;5;124m\"\u001b[39m\u001b[38;5;124mSQRTISWAP\u001b[39m\u001b[38;5;124m\"\u001b[39m]:\n",
      "\u001b[1;31mNotImplementedError\u001b[0m: Gate Measurement(M0, target=[2], classical_store=[0]) cannot be resolved."
     ]
    }
   ],
   "source": [
    "tlist = np.linspace(0, 30., 100)\n",
    "coeff = tlist * 0.01\n",
    "noise = DecoherenceNoise(\n",
    "    sigmam(), targets=0,\n",
    "    coeff=coeff, tlist=tlist)\n",
    "processor = LinearSpinChain(1)\n",
    "processor.add_noise(noise)\n",
    "processor.load_circuit(qc)\n",
    "tlist = np.linspace(0, 20, 300)\n",
    "result = processor.run_state(init_state, tlist=tlist)"
   ]
  }
 ],
 "metadata": {
  "kernelspec": {
   "display_name": "Python 3",
   "language": "python",
   "name": "python3"
  },
  "language_info": {
   "codemirror_mode": {
    "name": "ipython",
    "version": 3
   },
   "file_extension": ".py",
   "mimetype": "text/x-python",
   "name": "python",
   "nbconvert_exporter": "python",
   "pygments_lexer": "ipython3",
   "version": "3.11.3"
  }
 },
 "nbformat": 4,
 "nbformat_minor": 2
}
